{
 "cells": [
  {
   "cell_type": "code",
   "execution_count": 7,
   "id": "f68024e8-b755-47fb-b486-0164654b674b",
   "metadata": {},
   "outputs": [],
   "source": [
    "import face_recognition\n",
    "import cv2\n",
    "import os\n",
    "import numpy as np\n",
    "from moviepy.editor import VideoFileClip\n",
    "\n",
    "# Load known faces and their names\n",
    "known_face_encodings = []\n",
    "known_face_names = []\n",
    "\n",
    "# Path to the directory containing subdirectories of images for each person\n",
    "known_faces_dir = r'E:\\jupyter_notebook\\Music\\FOLDER_FOR_FACE_RECOGNITION'\n",
    "\n",
    "# Loop through each person in the known_faces_dir\n",
    "for person_name in os.listdir(known_faces_dir):\n",
    "    person_dir = os.path.join(known_faces_dir, person_name)\n",
    "    \n",
    "    # Loop through each image of the person\n",
    "    for image_name in os.listdir(person_dir):\n",
    "        image_path = os.path.join(person_dir, image_name)\n",
    "        \n",
    "        # Load the image\n",
    "        image = face_recognition.load_image_file(image_path)\n",
    "        \n",
    "        # Get the face encodings for the image\n",
    "        encodings = face_recognition.face_encodings(image)\n",
    "        \n",
    "        # There might be no face or multiple faces in the image\n",
    "        if len(encodings) == 1:\n",
    "            # Use the first encoding and append it to the list\n",
    "            known_face_encodings.append(encodings[0])\n",
    "            known_face_names.append(person_name)"
   ]
  },
  {
   "cell_type": "code",
   "execution_count": 8,
   "id": "7f530cef-5a5a-40a7-be40-acb4dc9f1ce7",
   "metadata": {},
   "outputs": [],
   "source": [
    "# Define paths\n",
    "input_video = r\"E:\\new_downloads_default_folder\\trump2.mp4\"\n",
    "temp_video = r\"E:\\trump2_temp11.mp4\"\n",
    "output_video = r\"E:\\trump2_out11.mp4\"\n",
    "\n",
    "# Open input video file\n",
    "video_capture = cv2.VideoCapture(input_video)\n",
    "frame_width = int(video_capture.get(cv2.CAP_PROP_FRAME_WIDTH))\n",
    "frame_height = int(video_capture.get(cv2.CAP_PROP_FRAME_HEIGHT))\n",
    "fps = int(video_capture.get(cv2.CAP_PROP_FPS))\n",
    "\n",
    "# Initialize video writer\n",
    "fourcc = cv2.VideoWriter_fourcc(*'mp4v')\n",
    "output_writer = cv2.VideoWriter(temp_video, fourcc, fps, (frame_width, frame_height))"
   ]
  },
  {
   "cell_type": "code",
   "execution_count": 9,
   "id": "dd7bdd59-243d-4173-be26-14a239eedceb",
   "metadata": {},
   "outputs": [
    {
     "name": "stdout",
     "output_type": "stream",
     "text": [
      "Moviepy - Building video E:\\trump2_out11.mp4.\n",
      "MoviePy - Writing audio in trump2_out11TEMP_MPY_wvf_snd.mp3\n"
     ]
    },
    {
     "name": "stderr",
     "output_type": "stream",
     "text": [
      "                                                                                                                       \r"
     ]
    },
    {
     "name": "stdout",
     "output_type": "stream",
     "text": [
      "MoviePy - Done.\n",
      "Moviepy - Writing video E:\\trump2_out11.mp4\n",
      "\n"
     ]
    },
    {
     "name": "stderr",
     "output_type": "stream",
     "text": [
      "                                                                                                                       \r"
     ]
    },
    {
     "name": "stdout",
     "output_type": "stream",
     "text": [
      "Moviepy - Done !\n",
      "Moviepy - video ready E:\\trump2_out11.mp4\n"
     ]
    }
   ],
   "source": [
    "# Process each frame\n",
    "while video_capture.isOpened():\n",
    "    ret, frame = video_capture.read()\n",
    "    if not ret:\n",
    "        break\n",
    "\n",
    "    # Convert frame to RGB (face_recognition uses RGB)\n",
    "    rgb_frame = cv2.cvtColor(frame, cv2.COLOR_BGR2RGB)\n",
    "\n",
    "    # Find all face locations and face encodings in the current frame\n",
    "    face_locations = face_recognition.face_locations(rgb_frame)\n",
    "    face_encodings = face_recognition.face_encodings(rgb_frame, face_locations)\n",
    "\n",
    "    # Initialize an array for names of detected faces\n",
    "    face_names = []\n",
    "\n",
    "    for face_encoding in face_encodings:\n",
    "        # Check if the face matches any known faces\n",
    "        matches = face_recognition.compare_faces(known_face_encodings, face_encoding)\n",
    "        name = \"Unknown\"\n",
    "\n",
    "        # Use the closest match to determine the name\n",
    "        face_distances = face_recognition.face_distance(known_face_encodings, face_encoding)\n",
    "        best_match_index = np.argmin(face_distances)\n",
    "        if matches[best_match_index]:\n",
    "            name = known_face_names[best_match_index]\n",
    "\n",
    "        face_names.append(name)\n",
    "\n",
    "    # Label the faces in the frame\n",
    "    for (top, right, bottom, left), name in zip(face_locations, face_names):\n",
    "        # Draw a box around the face\n",
    "        cv2.rectangle(frame, (left, top), (right, bottom), (0, 255, 0), 2)\n",
    "\n",
    "        # Draw a label with the name above the face\n",
    "        cv2.rectangle(frame, (left, top - 35), (right, top), (0, 255, 0), cv2.FILLED)\n",
    "        font = cv2.FONT_HERSHEY_DUPLEX\n",
    "        cv2.putText(frame, name, (left + 6, top - 6), font, 1.0, (255, 255, 255), 1)\n",
    "\n",
    "    # Display the resulting frame live\n",
    "    cv2.imshow('Video2', frame)\n",
    "\n",
    "    # Write processed frame to output video\n",
    "    output_writer.write(frame)\n",
    "\n",
    "    # Break the loop if 'q' is pressed\n",
    "    if cv2.waitKey(1) & 0xFF == ord('q'):\n",
    "        break\n",
    "\n",
    "# Release resources\n",
    "video_capture.release()\n",
    "output_writer.release()\n",
    "cv2.destroyAllWindows()\n",
    "\n",
    "# Adding the original audio back to the video using moviepy\n",
    "original_clip = VideoFileClip(input_video)\n",
    "processed_clip = VideoFileClip(temp_video)\n",
    "\n",
    "# Combine video and audio\n",
    "final_clip = processed_clip.set_audio(original_clip.audio)\n",
    "final_clip.write_videofile(output_video, codec=\"libx264\")\n",
    "\n",
    "# Clean up temporary files\n",
    "#os.remove(temp_video)"
   ]
  },
  {
   "cell_type": "code",
   "execution_count": null,
   "id": "03870274-7fa5-4876-8ec8-1aff1be118b6",
   "metadata": {},
   "outputs": [],
   "source": [
    "\n"
   ]
  }
 ],
 "metadata": {
  "kernelspec": {
   "display_name": "Python 3 (ipykernel)",
   "language": "python",
   "name": "python3"
  },
  "language_info": {
   "codemirror_mode": {
    "name": "ipython",
    "version": 3
   },
   "file_extension": ".py",
   "mimetype": "text/x-python",
   "name": "python",
   "nbconvert_exporter": "python",
   "pygments_lexer": "ipython3",
   "version": "3.12.4"
  }
 },
 "nbformat": 4,
 "nbformat_minor": 5
}
